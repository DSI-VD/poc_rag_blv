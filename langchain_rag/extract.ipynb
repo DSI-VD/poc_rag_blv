{
 "cells": [
  {
   "cell_type": "code",
   "execution_count": 3,
   "id": "cbfd92e4-1f57-430c-965f-724758092a2a",
   "metadata": {},
   "outputs": [],
   "source": [
    "import pandas as pd"
   ]
  },
  {
   "cell_type": "markdown",
   "id": "8498a75f-d6a8-458a-be56-25755c216680",
   "metadata": {},
   "source": [
    "## Chargement des textes de requête"
   ]
  },
  {
   "cell_type": "code",
   "execution_count": 4,
   "id": "4aef54d3-3a22-4723-96f7-345123cb3e42",
   "metadata": {},
   "outputs": [],
   "source": [
    "data = []\n",
    "with open(\"queries.txt\", \"r\") as f:\n",
    "    data = f.readlines()"
   ]
  },
  {
   "cell_type": "code",
   "execution_count": 5,
   "id": "f75e5042-cb8d-4552-9ff1-528bdde0aab0",
   "metadata": {},
   "outputs": [],
   "source": [
    "def normalize(w):\n",
    "    return w.strip().lower().replace(\"\\\"\", \"\")"
   ]
  },
  {
   "cell_type": "code",
   "execution_count": 6,
   "id": "d6984f2a-fe53-4607-8922-a0f8e43493fd",
   "metadata": {},
   "outputs": [],
   "source": [
    "data = [normalize(w) for w in data]"
   ]
  },
  {
   "cell_type": "markdown",
   "id": "fbd279dc-def4-4f8b-b0a8-1dce3df655ec",
   "metadata": {},
   "source": [
    "### Fréquence des textes de requête"
   ]
  },
  {
   "cell_type": "code",
   "execution_count": 12,
   "id": "4024453d-9bf4-4e5b-a049-e43e3fb4649c",
   "metadata": {},
   "outputs": [
    {
     "data": {
      "text/plain": [
       "query                                                                                                             \n",
       "lpo                                                                                                                   1\n",
       "riflp                                                                                                                 1\n",
       "rladbladb                                                                                                             1\n",
       "rigueur                                                                                                               1\n",
       "arrêté du 7 octobre 2020                                                                                              1\n",
       "rlad                                                                                                                  1\n",
       "rl                                                                                                                    1\n",
       "arrêté du conseil d'etat du 26 janvier 1972                                                                           1\n",
       "arrêté estivage                                                                                                       1\n",
       "loi exercice des professions de la santé                                                                              1\n",
       "oiseau                                                                                                                1\n",
       "oiseaux                                                                                                               1\n",
       "composition conseil des élèves                                                                                        1\n",
       "compatible                                                                                                            1\n",
       "arrêté indexation allocations famililales                                                                             1\n",
       "loi formation obligatoire                                                                                             1\n",
       "arrêté judiciaire                                                                                                     1\n",
       "communique                                                                                                            1\n",
       "loi fédérale réglant la poursuite pour dettes contre les communes et autres collectivités de droit public cantonal    1\n",
       "cuve                                                                                                                  1\n",
       "Name: count, dtype: int64"
      ]
     },
     "execution_count": 12,
     "metadata": {},
     "output_type": "execute_result"
    }
   ],
   "source": [
    "df = pd.DataFrame(data, columns=[\"query\"])\n",
    "df.value_counts().tail(20)"
   ]
  }
 ],
 "metadata": {
  "kernelspec": {
   "display_name": "Python 3 (ipykernel)",
   "language": "python",
   "name": "python3"
  },
  "language_info": {
   "codemirror_mode": {
    "name": "ipython",
    "version": 3
   },
   "file_extension": ".py",
   "mimetype": "text/x-python",
   "name": "python",
   "nbconvert_exporter": "python",
   "pygments_lexer": "ipython3",
   "version": "3.10.12"
  }
 },
 "nbformat": 4,
 "nbformat_minor": 5
}
