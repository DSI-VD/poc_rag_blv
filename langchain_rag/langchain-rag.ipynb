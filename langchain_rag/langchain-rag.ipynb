{
 "cells": [
  {
   "cell_type": "code",
   "execution_count": 1,
   "id": "ddebd573-f44a-4b38-bb79-a2b79a2e45d5",
   "metadata": {},
   "outputs": [],
   "source": [
    "from langchain_community.document_loaders import JSONLoader\n",
    "from langchain_huggingface import HuggingFaceEmbeddings\n",
    "from langchain_text_splitters import RecursiveCharacterTextSplitter\n",
    "from langchain_chroma import Chroma\n",
    "from langchain_core.output_parsers import StrOutputParser\n",
    "from langchain_core.runnables import RunnablePassthrough\n",
    "from langchain.llms.llamacpp import LlamaCpp\n",
    "from langchain_core.prompts import ChatPromptTemplate\n",
    "import os"
   ]
  },
  {
   "cell_type": "code",
   "execution_count": 2,
   "id": "e30fa92f-505f-476b-bc3b-ac233a27b21b",
   "metadata": {},
   "outputs": [],
   "source": [
    "use_n_docs = 10"
   ]
  },
  {
   "cell_type": "code",
   "execution_count": 3,
   "id": "58674fea-ce15-4734-939c-f2b0b97b1044",
   "metadata": {},
   "outputs": [],
   "source": [
    "loader = JSONLoader(\"out.json\", f\"(.[:{use_n_docs}] | map({{rawtext}}))[].rawtext\" if use_n_docs > 0 else \".[].rawtext\")\n",
    "docs = loader.load()"
   ]
  },
  {
   "cell_type": "code",
   "execution_count": 4,
   "id": "df8bdff5-e344-496b-beea-106a74712a80",
   "metadata": {},
   "outputs": [],
   "source": [
    "text_splitter = RecursiveCharacterTextSplitter(chunk_size=1000, chunk_overlap=0)\n",
    "splits = text_splitter.split_documents(docs)"
   ]
  },
  {
   "cell_type": "code",
   "execution_count": 5,
   "id": "e0a6d65d-b459-4c1d-96f2-9b8b75ec5afd",
   "metadata": {},
   "outputs": [
    {
     "name": "stderr",
     "output_type": "stream",
     "text": [
      "/home/jol0z0/code/poc_rag_blv/venv/lib/python3.10/site-packages/sentence_transformers/cross_encoder/CrossEncoder.py:13: TqdmExperimentalWarning: Using `tqdm.autonotebook.tqdm` in notebook mode. Use `tqdm.tqdm` instead to force console mode (e.g. in jupyter console)\n",
      "  from tqdm.autonotebook import tqdm, trange\n",
      "No sentence-transformers model found with name dangvantuan/sentence-camembert-large. Creating a new one with mean pooling.\n",
      "/home/jol0z0/code/poc_rag_blv/venv/lib/python3.10/site-packages/transformers/tokenization_utils_base.py:1601: FutureWarning: `clean_up_tokenization_spaces` was not set. It will be set to `True` by default. This behavior will be depracted in transformers v4.45, and will be then set to `False` by default. For more details check this issue: https://github.com/huggingface/transformers/issues/31884\n",
      "  warnings.warn(\n"
     ]
    }
   ],
   "source": [
    "embed_model = HuggingFaceEmbeddings(model_name=\"dangvantuan/sentence-camembert-large\")"
   ]
  },
  {
   "cell_type": "code",
   "execution_count": 6,
   "id": "bd1caa6f-6c82-4028-bf14-3839e56923ae",
   "metadata": {},
   "outputs": [
    {
     "name": "stdout",
     "output_type": "stream",
     "text": [
      "CPU times: user 9min 18s, sys: 1min 2s, total: 10min 20s\n",
      "Wall time: 2min 35s\n"
     ]
    }
   ],
   "source": [
    "%%time\n",
    "vectorstore = Chroma.from_documents(documents=splits, embedding=embed_model, persist_directory=\"vectors\", )"
   ]
  },
  {
   "cell_type": "code",
   "execution_count": 7,
   "id": "0aab451b-2ff8-499b-ac3d-8c72e1fcb9eb",
   "metadata": {},
   "outputs": [],
   "source": [
    "llm = LlamaCpp(model_path=\"../Meta-Llama-3.1-8B-Instruct-Q4_K_M.gguf\", verbose=False, n_threads=4, n_ctx=8192)"
   ]
  },
  {
   "cell_type": "code",
   "execution_count": 8,
   "id": "568c1fa4-12e5-40ea-b7fa-b432df205d28",
   "metadata": {},
   "outputs": [],
   "source": [
    "prompt = ChatPromptTemplate([\n",
    "    (\"human\", \"\"\"<|begin_of_text|><|start_header_id|>system<|end_header_id|>Tu es un assistant possédant des connaissances sur les lois et règlements de la Base Législative Vaudoise, tu peux utiliser le contexte donné pour répondre aux questions. Réponds aux questions précisemment en 3 phrases. Si la question n'a pas de lien avec le contexte, ne mentionne pas l'existence du contexte.\n",
    "<|eot_id|><|start_header_id|>user<|end_header_id|>{question}\n",
    "Contexte: {context}\n",
    "<|eot_id|><|start_header_id|>assistant<|end_header_id|>\"\"\")\n",
    "])"
   ]
  },
  {
   "cell_type": "code",
   "execution_count": 9,
   "id": "b6beb02e-08cf-4dcf-a246-b13bde9b7209",
   "metadata": {},
   "outputs": [],
   "source": [
    "rag = (\n",
    "    {\"context\": vectorstore.as_retriever(), \"question\": RunnablePassthrough()}\n",
    "    | prompt\n",
    "    | llm\n",
    "    | StrOutputParser()\n",
    ")"
   ]
  },
  {
   "cell_type": "code",
   "execution_count": 10,
   "id": "e127736d-86b1-4f73-b8f0-29f52a8e430d",
   "metadata": {},
   "outputs": [
    {
     "name": "stdout",
     "output_type": "stream",
     "text": [
      "CPU times: user 16min 17s, sys: 813 ms, total: 16min 18s\n",
      "Wall time: 2min 19s\n"
     ]
    },
    {
     "data": {
      "text/plain": [
       "\"L'étudiant peut demander une aide mensuelle de Fr. 1'200.-, étant donné qu'il s'agit d'un montant forfaitaire prévu par l'article 145 du code des lois de la Base Législative Vaudoise.\""
      ]
     },
     "execution_count": 10,
     "metadata": {},
     "output_type": "execute_result"
    }
   ],
   "source": [
    "%%time\n",
    "rag.invoke(\"Quel montant d'aide mensuel peut demander un étudiant en HEP?\")"
   ]
  }
 ],
 "metadata": {
  "kernelspec": {
   "display_name": "Python 3 (ipykernel)",
   "language": "python",
   "name": "python3"
  },
  "language_info": {
   "codemirror_mode": {
    "name": "ipython",
    "version": 3
   },
   "file_extension": ".py",
   "mimetype": "text/x-python",
   "name": "python",
   "nbconvert_exporter": "python",
   "pygments_lexer": "ipython3",
   "version": "3.10.12"
  }
 },
 "nbformat": 4,
 "nbformat_minor": 5
}
